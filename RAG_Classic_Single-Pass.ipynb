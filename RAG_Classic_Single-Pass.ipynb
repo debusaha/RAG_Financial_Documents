{
 "cells": [
  {
   "cell_type": "code",
   "execution_count": 9,
   "id": "30e31d5e",
   "metadata": {},
   "outputs": [],
   "source": [
    "#!pip install dotenv"
   ]
  },
  {
   "cell_type": "code",
   "execution_count": 15,
   "id": "3eed0d50",
   "metadata": {},
   "outputs": [],
   "source": [
    "import os, fitz"
   ]
  },
  {
   "cell_type": "code",
   "execution_count": 16,
   "id": "fb1d8dcd",
   "metadata": {},
   "outputs": [
    {
     "name": "stdout",
     "output_type": "stream",
     "text": [
      "PyMuPDF 1.24.11: Python bindings for the MuPDF 1.24.10 library (rebased implementation).\n",
      "Python 3.8 running on win32 (64-bit).\n",
      "\n"
     ]
    }
   ],
   "source": [
    "print(fitz.__doc__)"
   ]
  },
  {
   "cell_type": "markdown",
   "id": "8da39f17",
   "metadata": {},
   "source": [
    "# 1. Data Source"
   ]
  },
  {
   "cell_type": "code",
   "execution_count": 28,
   "id": "8ec915c3",
   "metadata": {},
   "outputs": [],
   "source": [
    "from dotenv import load_dotenv\n",
    "\n",
    "load_dotenv()\n",
    "load_dotenv(override=True)\n",
    "\n",
    "FOLDER_PATH = os.getenv(\"FIN_DOC_DIR\") # Data folder \n",
    "#print(\"Data folder:\", FOLDER_PATH)"
   ]
  },
  {
   "cell_type": "code",
   "execution_count": 29,
   "id": "e9b00f17",
   "metadata": {},
   "outputs": [],
   "source": [
    "def txt_from_pdf(folder_path):\n",
    "    txt = {}\n",
    "    \n",
    "    for file in os.listdir(folder_path):\n",
    "        if file.lower().endswith(\".pdf\"):\n",
    "            file_path = os.path.join(folder_path, file)\n",
    "            docu = fitz.open(file_path)\n",
    "            texts = \"\\n\".join([page.get_text() for page in docu])\n",
    "            txt[file] = texts\n",
    "    return txt"
   ]
  },
  {
   "cell_type": "code",
   "execution_count": 30,
   "id": "46762dab",
   "metadata": {},
   "outputs": [],
   "source": [
    "all_txt = txt_from_pdf(FOLDER_PATH)"
   ]
  },
  {
   "cell_type": "code",
   "execution_count": null,
   "id": "ccfdcb55",
   "metadata": {},
   "outputs": [],
   "source": []
  }
 ],
 "metadata": {
  "kernelspec": {
   "display_name": "Python 3 (ipykernel)",
   "language": "python",
   "name": "python3"
  },
  "language_info": {
   "codemirror_mode": {
    "name": "ipython",
    "version": 3
   },
   "file_extension": ".py",
   "mimetype": "text/x-python",
   "name": "python",
   "nbconvert_exporter": "python",
   "pygments_lexer": "ipython3",
   "version": "3.8.16"
  }
 },
 "nbformat": 4,
 "nbformat_minor": 5
}
